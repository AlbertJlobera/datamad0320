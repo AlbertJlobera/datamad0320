{
 "cells": [
  {
   "cell_type": "markdown",
   "metadata": {},
   "source": [
    "# Web Scraping Lab\n",
    "\n",
    "You will find in this notebook some scrapy exercises to practise your scraping skills.\n",
    "\n",
    "**Tips:**\n",
    "\n",
    "- Check the response status code for each request to ensure you have obtained the intended contennt.\n",
    "- Print the response text in each request to understand the kind of info you are getting and its format.\n",
    "- Check for patterns in the response text to extract the data/info requested in each question.\n",
    "- Visit each url and take a look at its source through Chrome DevTools. You'll need to identify the html tags, special class names etc. used for the html content you are expected to extract."
   ]
  },
  {
   "cell_type": "markdown",
   "metadata": {},
   "source": [
    "- [Requests library](http://docs.python-requests.org/en/master/#the-user-guide) documentation \n",
    "- [Beautiful Soup Doc](https://www.crummy.com/software/BeautifulSoup/bs4/doc/)\n",
    "- [Urllib](https://docs.python.org/3/library/urllib.html#module-urllib)\n",
    "- [re lib](https://docs.python.org/3/library/re.html)\n",
    "- [lxml lib](https://lxml.de/)\n",
    "- [Scrapy](https://scrapy.org/)\n",
    "- [List of HTTP status codes](https://en.wikipedia.org/wiki/List_of_HTTP_status_codes)\n",
    "- [HTML basics](http://www.simplehtmlguide.com/cheatsheet.php)\n",
    "- [CSS basics](https://www.cssbasics.com/#page_start)"
   ]
  },
  {
   "cell_type": "markdown",
   "metadata": {},
   "source": [
    "#### Below are the libraries and modules you may need. `requests`,  `BeautifulSoup` and `pandas` are imported for you. If you prefer to use additional libraries feel free to uncomment them."
   ]
  },
  {
   "cell_type": "code",
   "execution_count": 1,
   "metadata": {},
   "outputs": [],
   "source": [
    "import requests\n",
    "from bs4 import BeautifulSoup\n",
    "import pandas as pd\n",
    "# from pprint import pprint\n",
    "# from lxml import html\n",
    "# from lxml.html import fromstring\n",
    "# import urllib.request\n",
    "# from urllib.request import urlopen\n",
    "# import random\n",
    "# import re\n",
    "# import scrapy"
   ]
  },
  {
   "cell_type": "markdown",
   "metadata": {},
   "source": [
    "#### Download, parse (using BeautifulSoup), and print the content from the Trending Developers page from GitHub:"
   ]
  },
  {
   "cell_type": "code",
   "execution_count": 2,
   "metadata": {},
   "outputs": [],
   "source": [
    "# This is the url you will scrape in this exercise\n",
    "url = 'https://github.com/trending/developers'"
   ]
  },
  {
   "cell_type": "code",
   "execution_count": 3,
   "metadata": {},
   "outputs": [
    {
     "name": "stdout",
     "output_type": "stream",
     "text": [
      "<Response [200]>\n"
     ]
    }
   ],
   "source": [
    "#your code\n",
    "res = requests.get(url)\n",
    "print(res)\n",
    "soup = BeautifulSoup(res.text,'html.parser')"
   ]
  },
  {
   "cell_type": "code",
   "execution_count": 28,
   "metadata": {},
   "outputs": [
    {
     "name": "stdout",
     "output_type": "stream",
     "text": [
      "<h1 class=\"h3 lh-condensed\">\n",
      "<a data-hydro-click='{\"event_type\":\"explore.click\",\"payload\":{\"click_context\":\"TRENDING_DEVELOPERS_PAGE\",\"click_target\":\"OWNER\",\"click_visual_representation\":\"TRENDING_DEVELOPER\",\"actor_id\":null,\"record_id\":172800,\"originating_url\":\"https://github.com/trending/developers\",\"user_id\":null}}' data-hydro-click-hmac=\"613d9dea1f6905ec0f17471cfdcd17a6fc7f98c5602b453b8743643e4a11d0d5\" href=\"/nornagon\">\n",
      "            Jeremy Apthorp\n",
      "</a>\n",
      "</h1>\n",
      "('Jeremy Apthorp', '/nornagon')\n",
      "<h1 class=\"h3 lh-condensed\">\n",
      "<a data-hydro-click='{\"event_type\":\"explore.click\",\"payload\":{\"click_context\":\"TRENDING_DEVELOPERS_PAGE\",\"click_target\":\"OWNER\",\"click_visual_representation\":\"TRENDING_DEVELOPER\",\"actor_id\":null,\"record_id\":8975114,\"originating_url\":\"https://github.com/trending/developers\",\"user_id\":null}}' data-hydro-click-hmac=\"236d6d179708b4ea4e30df65f767c892014857dc5b8a6223501d0aac0708a66e\" href=\"/jonahwilliams\">\n",
      "            Jonah Williams\n",
      "</a>\n",
      "</h1>\n",
      "('Jonah Williams', '/jonahwilliams')\n",
      "<h1 class=\"h3 lh-condensed\">\n",
      "<a data-hydro-click='{\"event_type\":\"explore.click\",\"payload\":{\"click_context\":\"TRENDING_DEVELOPERS_PAGE\",\"click_target\":\"OWNER\",\"click_visual_representation\":\"TRENDING_DEVELOPER\",\"actor_id\":null,\"record_id\":8855632,\"originating_url\":\"https://github.com/trending/developers\",\"user_id\":null}}' data-hydro-click-hmac=\"b20e3c47b28ecca9b9fddabf3f86288110cb6679d50a39e38781b3892c68cc4b\" href=\"/felangel\">\n",
      "            Felix Angelov\n",
      "</a>\n",
      "</h1>\n",
      "('Felix Angelov', '/felangel')\n",
      "<h1 class=\"h3 lh-condensed\">\n",
      "<a data-hydro-click='{\"event_type\":\"explore.click\",\"payload\":{\"click_context\":\"TRENDING_DEVELOPERS_PAGE\",\"click_target\":\"OWNER\",\"click_visual_representation\":\"TRENDING_DEVELOPER\",\"actor_id\":null,\"record_id\":35128,\"originating_url\":\"https://github.com/trending/developers\",\"user_id\":null}}' data-hydro-click-hmac=\"4b77ec0b78bb6d14e9529afb5114d4a6e39f4f31c7f0f08b753b9dcfcdd5a593\" href=\"/sorrycc\">\n",
      "            chencheng (云谦)\n",
      "</a>\n",
      "</h1>\n",
      "('chencheng (云谦)', '/sorrycc')\n",
      "<h1 class=\"h3 lh-condensed\">\n",
      "<a data-hydro-click='{\"event_type\":\"explore.click\",\"payload\":{\"click_context\":\"TRENDING_DEVELOPERS_PAGE\",\"click_target\":\"OWNER\",\"click_visual_representation\":\"TRENDING_DEVELOPER\",\"actor_id\":null,\"record_id\":1326112,\"originating_url\":\"https://github.com/trending/developers\",\"user_id\":null}}' data-hydro-click-hmac=\"edfeb5472809d8a17a2fa961794f03334b649e91b89d154fdc1d264d89c3cd3b\" href=\"/tiangolo\">\n",
      "            Sebastián Ramírez\n",
      "</a>\n",
      "</h1>\n",
      "('Sebastián Ramírez', '/tiangolo')\n",
      "<h1 class=\"h3 lh-condensed\">\n",
      "<a data-hydro-click='{\"event_type\":\"explore.click\",\"payload\":{\"click_context\":\"TRENDING_DEVELOPERS_PAGE\",\"click_target\":\"OWNER\",\"click_visual_representation\":\"TRENDING_DEVELOPER\",\"actor_id\":null,\"record_id\":122434,\"originating_url\":\"https://github.com/trending/developers\",\"user_id\":null}}' data-hydro-click-hmac=\"0f50e71635463348c03cdbd5dc94fbe636f6db082cbb339dd9bce3d003bfa14c\" href=\"/medikoo\">\n",
      "            Mariusz Nowak\n",
      "</a>\n",
      "</h1>\n",
      "('Mariusz Nowak', '/medikoo')\n",
      "<h1 class=\"h3 lh-condensed\">\n",
      "<a data-hydro-click='{\"event_type\":\"explore.click\",\"payload\":{\"click_context\":\"TRENDING_DEVELOPERS_PAGE\",\"click_target\":\"OWNER\",\"click_visual_representation\":\"TRENDING_DEVELOPER\",\"actor_id\":null,\"record_id\":18584155,\"originating_url\":\"https://github.com/trending/developers\",\"user_id\":null}}' data-hydro-click-hmac=\"29a38900b786d04e7c3a5b0380d2698237023141f3ecac897b5f5d31a9b05909\" href=\"/Trancever\">\n",
      "            Dawid Urbaniak\n",
      "</a>\n",
      "</h1>\n",
      "('Dawid Urbaniak', '/Trancever')\n",
      "<h1 class=\"h3 lh-condensed\">\n",
      "<a data-hydro-click='{\"event_type\":\"explore.click\",\"payload\":{\"click_context\":\"TRENDING_DEVELOPERS_PAGE\",\"click_target\":\"OWNER\",\"click_visual_representation\":\"TRENDING_DEVELOPER\",\"actor_id\":null,\"record_id\":2281927,\"originating_url\":\"https://github.com/trending/developers\",\"user_id\":null}}' data-hydro-click-hmac=\"e4df979f7bc3077ffe4a89d8e18cdb59f662fc14d8c38f6618d3a9028f7edbfc\" href=\"/JeffreySu\">\n",
      "            Jeffrey Su\n",
      "</a>\n",
      "</h1>\n",
      "('Jeffrey Su', '/JeffreySu')\n",
      "<h1 class=\"h3 lh-condensed\">\n",
      "<a data-hydro-click='{\"event_type\":\"explore.click\",\"payload\":{\"click_context\":\"TRENDING_DEVELOPERS_PAGE\",\"click_target\":\"OWNER\",\"click_visual_representation\":\"TRENDING_DEVELOPER\",\"actor_id\":null,\"record_id\":4182382,\"originating_url\":\"https://github.com/trending/developers\",\"user_id\":null}}' data-hydro-click-hmac=\"02cf2ccaded5cbbf128da40ae1460468bbc3b74a2e1e6f5f7bff515c9653d651\" href=\"/hugobowne\">\n",
      "            Hugo Bowne-Anderson\n",
      "</a>\n",
      "</h1>\n",
      "('Hugo Bowne-Anderson', '/hugobowne')\n",
      "<h1 class=\"h3 lh-condensed\">\n",
      "<a data-hydro-click='{\"event_type\":\"explore.click\",\"payload\":{\"click_context\":\"TRENDING_DEVELOPERS_PAGE\",\"click_target\":\"OWNER\",\"click_visual_representation\":\"TRENDING_DEVELOPER\",\"actor_id\":null,\"record_id\":3603793,\"originating_url\":\"https://github.com/trending/developers\",\"user_id\":null}}' data-hydro-click-hmac=\"1a6678c2fe15703a6093ed6faa2280aa9814b2261dfb32ce753cbbfcf826255a\" href=\"/felipefialho\">\n",
      "            Felipe Fialho\n",
      "</a>\n",
      "</h1>\n",
      "('Felipe Fialho', '/felipefialho')\n",
      "<h1 class=\"h3 lh-condensed\">\n",
      "<a data-hydro-click='{\"event_type\":\"explore.click\",\"payload\":{\"click_context\":\"TRENDING_DEVELOPERS_PAGE\",\"click_target\":\"OWNER\",\"click_visual_representation\":\"TRENDING_DEVELOPER\",\"actor_id\":null,\"record_id\":3523016,\"originating_url\":\"https://github.com/trending/developers\",\"user_id\":null}}' data-hydro-click-hmac=\"0c7a09cd8d7bd1e9aac9797ad44c087b821ff90ffd965295c8b65377e5fa2bf9\" href=\"/yurishkuro\">\n",
      "            Yuri Shkuro\n",
      "</a>\n",
      "</h1>\n",
      "('Yuri Shkuro', '/yurishkuro')\n",
      "<h1 class=\"h3 lh-condensed\">\n",
      "<a data-hydro-click='{\"event_type\":\"explore.click\",\"payload\":{\"click_context\":\"TRENDING_DEVELOPERS_PAGE\",\"click_target\":\"OWNER\",\"click_visual_representation\":\"TRENDING_DEVELOPER\",\"actor_id\":null,\"record_id\":82342,\"originating_url\":\"https://github.com/trending/developers\",\"user_id\":null}}' data-hydro-click-hmac=\"a8324adccb393983e3bd3ded846d76e4f0800f7f6e85c16e72dfc20163fbc8fd\" href=\"/ripienaar\">\n",
      "            R.I.Pienaar\n",
      "</a>\n",
      "</h1>\n",
      "('R.I.Pienaar', '/ripienaar')\n",
      "<h1 class=\"h3 lh-condensed\">\n",
      "<a data-hydro-click='{\"event_type\":\"explore.click\",\"payload\":{\"click_context\":\"TRENDING_DEVELOPERS_PAGE\",\"click_target\":\"OWNER\",\"click_visual_representation\":\"TRENDING_DEVELOPER\",\"actor_id\":null,\"record_id\":398893,\"originating_url\":\"https://github.com/trending/developers\",\"user_id\":null}}' data-hydro-click-hmac=\"57c948abbaec02de9d50ed51e4a13f80d37e7b1484e211ecf9dd69507a0a058c\" href=\"/zenorocha\">\n",
      "            Zeno Rocha\n",
      "</a>\n",
      "</h1>\n",
      "('Zeno Rocha', '/zenorocha')\n",
      "<h1 class=\"h3 lh-condensed\">\n",
      "<a data-hydro-click='{\"event_type\":\"explore.click\",\"payload\":{\"click_context\":\"TRENDING_DEVELOPERS_PAGE\",\"click_target\":\"OWNER\",\"click_visual_representation\":\"TRENDING_DEVELOPER\",\"actor_id\":null,\"record_id\":10785,\"originating_url\":\"https://github.com/trending/developers\",\"user_id\":null}}' data-hydro-click-hmac=\"22761f4574daf06758abcaa6e820fd185dae596e406717263f2a154fe42d991f\" href=\"/maximkulkin\">\n",
      "            Maxim Kulkin\n",
      "</a>\n",
      "</h1>\n",
      "('Maxim Kulkin', '/maximkulkin')\n",
      "<h1 class=\"h3 lh-condensed\">\n",
      "<a data-hydro-click='{\"event_type\":\"explore.click\",\"payload\":{\"click_context\":\"TRENDING_DEVELOPERS_PAGE\",\"click_target\":\"OWNER\",\"click_visual_representation\":\"TRENDING_DEVELOPER\",\"actor_id\":null,\"record_id\":2231765,\"originating_url\":\"https://github.com/trending/developers\",\"user_id\":null}}' data-hydro-click-hmac=\"80d6e286021826361201d8199b76b9ddf2566da52748778a1341b91ca3fc62ae\" href=\"/rmosolgo\">\n",
      "            Robert Mosolgo\n",
      "</a>\n",
      "</h1>\n",
      "('Robert Mosolgo', '/rmosolgo')\n",
      "<h1 class=\"h3 lh-condensed\">\n",
      "<a data-hydro-click='{\"event_type\":\"explore.click\",\"payload\":{\"click_context\":\"TRENDING_DEVELOPERS_PAGE\",\"click_target\":\"OWNER\",\"click_visual_representation\":\"TRENDING_DEVELOPER\",\"actor_id\":null,\"record_id\":1412254,\"originating_url\":\"https://github.com/trending/developers\",\"user_id\":null}}' data-hydro-click-hmac=\"32433678977d05de43facceebc1b86b444ebf4e80062b8e1b00a4a4e6460e146\" href=\"/tomaka\">\n",
      "            Pierre Krieger\n",
      "</a>\n",
      "</h1>\n",
      "('Pierre Krieger', '/tomaka')\n",
      "<h1 class=\"h3 lh-condensed\">\n",
      "<a data-hydro-click='{\"event_type\":\"explore.click\",\"payload\":{\"click_context\":\"TRENDING_DEVELOPERS_PAGE\",\"click_target\":\"OWNER\",\"click_visual_representation\":\"TRENDING_DEVELOPER\",\"actor_id\":null,\"record_id\":6961695,\"originating_url\":\"https://github.com/trending/developers\",\"user_id\":null}}' data-hydro-click-hmac=\"bcaebb010c3307dd6cdd9d8182d701e7768e9e9ef729cb61175e5fa32972ba5d\" href=\"/imanghafoori1\">\n",
      "            Iman\n",
      "</a>\n",
      "</h1>\n",
      "('Iman', '/imanghafoori1')\n",
      "<h1 class=\"h3 lh-condensed\">\n",
      "<a data-hydro-click='{\"event_type\":\"explore.click\",\"payload\":{\"click_context\":\"TRENDING_DEVELOPERS_PAGE\",\"click_target\":\"OWNER\",\"click_visual_representation\":\"TRENDING_DEVELOPER\",\"actor_id\":null,\"record_id\":4278345,\"originating_url\":\"https://github.com/trending/developers\",\"user_id\":null}}' data-hydro-click-hmac=\"907f9cebea0f0ee63c82ac60e78251c4366126a36c3cf62f17370ba2273bd80f\" href=\"/lfades\">\n",
      "            Luis Alvarez D.\n",
      "</a>\n",
      "</h1>\n",
      "('Luis Alvarez D.', '/lfades')\n",
      "<h1 class=\"h3 lh-condensed\">\n",
      "<a data-hydro-click='{\"event_type\":\"explore.click\",\"payload\":{\"click_context\":\"TRENDING_DEVELOPERS_PAGE\",\"click_target\":\"OWNER\",\"click_visual_representation\":\"TRENDING_DEVELOPER\",\"actor_id\":null,\"record_id\":3924224,\"originating_url\":\"https://github.com/trending/developers\",\"user_id\":null}}' data-hydro-click-hmac=\"66c5ff7d5f2c9ff287ea151ebc700cf3b46ca00822957ffef05ab853f4544e01\" href=\"/maticzav\">\n",
      "            Matic Zavadlal\n",
      "</a>\n",
      "</h1>\n",
      "('Matic Zavadlal', '/maticzav')\n",
      "<h1 class=\"h3 lh-condensed\">\n",
      "<a data-hydro-click='{\"event_type\":\"explore.click\",\"payload\":{\"click_context\":\"TRENDING_DEVELOPERS_PAGE\",\"click_target\":\"OWNER\",\"click_visual_representation\":\"TRENDING_DEVELOPER\",\"actor_id\":null,\"record_id\":1478487,\"originating_url\":\"https://github.com/trending/developers\",\"user_id\":null}}' data-hydro-click-hmac=\"2da9a878544fc4f6f76b28b2e1b71ee2cbf29b8dac7b24634c0334b3313bb4f9\" href=\"/marten-seemann\">\n",
      "            Marten Seemann\n",
      "</a>\n",
      "</h1>\n",
      "('Marten Seemann', '/marten-seemann')\n",
      "<h1 class=\"h3 lh-condensed\">\n",
      "<a data-hydro-click='{\"event_type\":\"explore.click\",\"payload\":{\"click_context\":\"TRENDING_DEVELOPERS_PAGE\",\"click_target\":\"OWNER\",\"click_visual_representation\":\"TRENDING_DEVELOPER\",\"actor_id\":null,\"record_id\":4209276,\"originating_url\":\"https://github.com/trending/developers\",\"user_id\":null}}' data-hydro-click-hmac=\"37c66dc589172f29cd7759c8a13d784f09d1a04de0ae2d0b251140e20e5c6250\" href=\"/sharkdp\">\n",
      "            David Peter\n",
      "</a>\n",
      "</h1>\n",
      "('David Peter', '/sharkdp')\n",
      "<h1 class=\"h3 lh-condensed\">\n",
      "<a data-hydro-click='{\"event_type\":\"explore.click\",\"payload\":{\"click_context\":\"TRENDING_DEVELOPERS_PAGE\",\"click_target\":\"OWNER\",\"click_visual_representation\":\"TRENDING_DEVELOPER\",\"actor_id\":null,\"record_id\":66577,\"originating_url\":\"https://github.com/trending/developers\",\"user_id\":null}}' data-hydro-click-hmac=\"0873b1c015d8f18864c4fb4e54574a2d021d64963638c3c2c1904e5809172f56\" href=\"/JakeWharton\">\n",
      "            Jake Wharton\n",
      "</a>\n",
      "</h1>\n",
      "('Jake Wharton', '/JakeWharton')\n",
      "<h1 class=\"h3 lh-condensed\">\n",
      "<a data-hydro-click='{\"event_type\":\"explore.click\",\"payload\":{\"click_context\":\"TRENDING_DEVELOPERS_PAGE\",\"click_target\":\"OWNER\",\"click_visual_representation\":\"TRENDING_DEVELOPER\",\"actor_id\":null,\"record_id\":744556,\"originating_url\":\"https://github.com/trending/developers\",\"user_id\":null}}' data-hydro-click-hmac=\"d8b6371b79d6128bb0c551721caac8329b413818537c0ba6f7460fe416f77868\" href=\"/JeffBezanson\">\n",
      "            Jeff Bezanson\n",
      "</a>\n",
      "</h1>\n",
      "('Jeff Bezanson', '/JeffBezanson')\n",
      "<h1 class=\"h3 lh-condensed\">\n",
      "<a data-hydro-click='{\"event_type\":\"explore.click\",\"payload\":{\"click_context\":\"TRENDING_DEVELOPERS_PAGE\",\"click_target\":\"OWNER\",\"click_visual_representation\":\"TRENDING_DEVELOPER\",\"actor_id\":null,\"record_id\":203583,\"originating_url\":\"https://github.com/trending/developers\",\"user_id\":null}}' data-hydro-click-hmac=\"7e7ced2ee2c006c2cdf3da9059a9dc82f2096b4d6c891363e1ee83b7fee4529f\" href=\"/munnerz\">\n",
      "            James Munnelly\n",
      "</a>\n",
      "</h1>\n",
      "('James Munnelly', '/munnerz')\n",
      "<h1 class=\"h3 lh-condensed\">\n",
      "<a data-hydro-click='{\"event_type\":\"explore.click\",\"payload\":{\"click_context\":\"TRENDING_DEVELOPERS_PAGE\",\"click_target\":\"OWNER\",\"click_visual_representation\":\"TRENDING_DEVELOPER\",\"actor_id\":null,\"record_id\":1458824,\"originating_url\":\"https://github.com/trending/developers\",\"user_id\":null}}' data-hydro-click-hmac=\"02808a9a44d7ce6c90bbbecd1239366df6442a6fc45c5cc5e5f9df55317afe4f\" href=\"/mattjj\">\n",
      "            Matthew Johnson\n",
      "</a>\n",
      "</h1>\n",
      "('Matthew Johnson', '/mattjj')\n"
     ]
    }
   ],
   "source": [
    "len(soup)\n",
    "\n",
    "for tag in soup.select('.h3.lh-condensed'):\n",
    "    \n",
    "    it=tag.find('a')\n",
    "    \n",
    "    a=it.text.strip()\n",
    "    \n",
    "    b=it.get('href')\n",
    "    dev=a,b\n",
    "    print(dev)\n",
    "    \n",
    "    \n"
   ]
  },
  {
   "cell_type": "markdown",
   "metadata": {},
   "source": [
    "#### Display the names of the trending developers retrieved in the previous step.\n",
    "\n",
    "Your output should be a Python list of developer names. Each name should not contain any html tag.\n",
    "\n",
    "**Instructions:**\n",
    "\n",
    "1. Find out the html tag and class names used for the developer names. You can achieve this using Chrome DevTools.\n",
    "\n",
    "1. Use BeautifulSoup to extract all the html elements that contain the developer names.\n",
    "\n",
    "1. Use string manipulation techniques to replace whitespaces and linebreaks (i.e. `\\n`) in the *text* of each html element. Use a list to store the clean names.\n",
    "\n",
    "1. Print the list of names.\n",
    "\n",
    "Your output should look like below:\n",
    "\n",
    "```\n",
    "['trimstray (@trimstray)',\n",
    " 'joewalnes (JoeWalnes)',\n",
    " 'charlax (Charles-AxelDein)',\n",
    " 'ForrestKnight (ForrestKnight)',\n",
    " 'revery-ui (revery-ui)',\n",
    " 'alibaba (Alibaba)',\n",
    " 'Microsoft (Microsoft)',\n",
    " 'github (GitHub)',\n",
    " 'facebook (Facebook)',\n",
    " 'boazsegev (Bo)',\n",
    " 'google (Google)',\n",
    " 'cloudfetch',\n",
    " 'sindresorhus (SindreSorhus)',\n",
    " 'tensorflow',\n",
    " 'apache (TheApacheSoftwareFoundation)',\n",
    " 'DevonCrawford (DevonCrawford)',\n",
    " 'ARMmbed (ArmMbed)',\n",
    " 'vuejs (vuejs)',\n",
    " 'fastai (fast.ai)',\n",
    " 'QiShaoXuan (Qi)',\n",
    " 'joelparkerhenderson (JoelParkerHenderson)',\n",
    " 'torvalds (LinusTorvalds)',\n",
    " 'CyC2018',\n",
    " 'komeiji-satori (神楽坂覚々)',\n",
    " 'script-8']\n",
    " ```"
   ]
  },
  {
   "cell_type": "markdown",
   "metadata": {},
   "source": [
    "#### Display the trending Python repositories in GitHub\n",
    "\n",
    "The steps to solve this problem is similar to the previous one except that you need to find out the repository names instead of developer names."
   ]
  },
  {
   "cell_type": "code",
   "execution_count": 5,
   "metadata": {},
   "outputs": [],
   "source": [
    "# This is the url you will scrape in this exercise\n",
    "url1 = 'https://github.com/trending/python?since=daily'"
   ]
  },
  {
   "cell_type": "code",
   "execution_count": 6,
   "metadata": {},
   "outputs": [],
   "source": [
    "res=requests.get(url1)\n",
    "res\n",
    "soup1 = BeautifulSoup(res.text,'html.parser')\n"
   ]
  },
  {
   "cell_type": "code",
   "execution_count": 76,
   "metadata": {},
   "outputs": [
    {
     "name": "stdout",
     "output_type": "stream",
     "text": [
      "<a data-hydro-click='{\"event_type\":\"explore.click\",\"payload\":{\"click_context\":\"TRENDING_REPOSITORIES_PAGE\",\"click_target\":\"REPOSITORY\",\"click_visual_representation\":\"REPOSITORY_NAME_HEADING\",\"actor_id\":null,\"record_id\":178549777,\"originating_url\":\"https://github.com/trending/python?since=daily\",\"user_id\":null}}' data-hydro-click-hmac=\"31d775b4e3f50aee07e33e837855f0354b5d2dad5bdac439af680e9f75bb2ff5\" href=\"/rojter-tech/pluradl.py\">\n",
      "<svg aria-hidden=\"true\" class=\"octicon octicon-repo mr-1 text-gray\" color=\"gray\" height=\"16\" mr=\"1\" version=\"1.1\" viewbox=\"0 0 12 16\" width=\"12\"><path d=\"M4 9H3V8h1v1zm0-3H3v1h1V6zm0-2H3v1h1V4zm0-2H3v1h1V2zm8-1v12c0 .55-.45 1-1 1H6v2l-1.5-1.5L3 16v-2H1c-.55 0-1-.45-1-1V1c0-.55.45-1 1-1h10c.55 0 1 .45 1 1zm-1 10H1v2h2v-1h3v1h5v-2zm0-10H2v9h9V1z\" fill-rule=\"evenodd\"></path></svg>\n",
      "<span class=\"text-normal\">\n",
      "        rojter-tech /\n",
      "</span>\n",
      "\n",
      "\n",
      "      pluradl.py\n",
      "</a>\n",
      "/rojter-tech/pluradl.py\n",
      "<a data-hydro-click='{\"event_type\":\"explore.click\",\"payload\":{\"click_context\":\"TRENDING_REPOSITORIES_PAGE\",\"click_target\":\"REPOSITORY\",\"click_visual_representation\":\"REPOSITORY_NAME_HEADING\",\"actor_id\":null,\"record_id\":247876759,\"originating_url\":\"https://github.com/trending/python?since=daily\",\"user_id\":null}}' data-hydro-click-hmac=\"10be2ab620a5e8b5a3bd7e14c7ea8a8f9a5bf0f67752b44d96febab9e518175c\" href=\"/caoscott/SReC\">\n",
      "<svg aria-hidden=\"true\" class=\"octicon octicon-repo mr-1 text-gray\" color=\"gray\" height=\"16\" mr=\"1\" version=\"1.1\" viewbox=\"0 0 12 16\" width=\"12\"><path d=\"M4 9H3V8h1v1zm0-3H3v1h1V6zm0-2H3v1h1V4zm0-2H3v1h1V2zm8-1v12c0 .55-.45 1-1 1H6v2l-1.5-1.5L3 16v-2H1c-.55 0-1-.45-1-1V1c0-.55.45-1 1-1h10c.55 0 1 .45 1 1zm-1 10H1v2h2v-1h3v1h5v-2zm0-10H2v9h9V1z\" fill-rule=\"evenodd\"></path></svg>\n",
      "<span class=\"text-normal\">\n",
      "        caoscott /\n",
      "</span>\n",
      "\n",
      "\n",
      "      SReC\n",
      "</a>\n",
      "/caoscott/SReC\n",
      "<a data-hydro-click='{\"event_type\":\"explore.click\",\"payload\":{\"click_context\":\"TRENDING_REPOSITORIES_PAGE\",\"click_target\":\"REPOSITORY\",\"click_visual_representation\":\"REPOSITORY_NAME_HEADING\",\"actor_id\":null,\"record_id\":191113739,\"originating_url\":\"https://github.com/trending/python?since=daily\",\"user_id\":null}}' data-hydro-click-hmac=\"0728b9c5b2c3730fbba8c38e0bf783ed4b22be2782298759b3fdbfcb03d3d346\" href=\"/0voice/interview_internal_reference\">\n",
      "<svg aria-hidden=\"true\" class=\"octicon octicon-repo mr-1 text-gray\" color=\"gray\" height=\"16\" mr=\"1\" version=\"1.1\" viewbox=\"0 0 12 16\" width=\"12\"><path d=\"M4 9H3V8h1v1zm0-3H3v1h1V6zm0-2H3v1h1V4zm0-2H3v1h1V2zm8-1v12c0 .55-.45 1-1 1H6v2l-1.5-1.5L3 16v-2H1c-.55 0-1-.45-1-1V1c0-.55.45-1 1-1h10c.55 0 1 .45 1 1zm-1 10H1v2h2v-1h3v1h5v-2zm0-10H2v9h9V1z\" fill-rule=\"evenodd\"></path></svg>\n",
      "<span class=\"text-normal\">\n",
      "        0voice /\n",
      "</span>\n",
      "\n",
      "\n",
      "      interview_internal_reference\n",
      "</a>\n",
      "/0voice/interview_internal_reference\n",
      "<a data-hydro-click='{\"event_type\":\"explore.click\",\"payload\":{\"click_context\":\"TRENDING_REPOSITORIES_PAGE\",\"click_target\":\"REPOSITORY\",\"click_visual_representation\":\"REPOSITORY_NAME_HEADING\",\"actor_id\":null,\"record_id\":83844720,\"originating_url\":\"https://github.com/trending/python?since=daily\",\"user_id\":null}}' data-hydro-click-hmac=\"53c24862deba4aceefdc845daa8c0a2f04280da6b45723952d96a6af987aeb3c\" href=\"/ageitgey/face_recognition\">\n",
      "<svg aria-hidden=\"true\" class=\"octicon octicon-repo mr-1 text-gray\" color=\"gray\" height=\"16\" mr=\"1\" version=\"1.1\" viewbox=\"0 0 12 16\" width=\"12\"><path d=\"M4 9H3V8h1v1zm0-3H3v1h1V6zm0-2H3v1h1V4zm0-2H3v1h1V2zm8-1v12c0 .55-.45 1-1 1H6v2l-1.5-1.5L3 16v-2H1c-.55 0-1-.45-1-1V1c0-.55.45-1 1-1h10c.55 0 1 .45 1 1zm-1 10H1v2h2v-1h3v1h5v-2zm0-10H2v9h9V1z\" fill-rule=\"evenodd\"></path></svg>\n",
      "<span class=\"text-normal\">\n",
      "        ageitgey /\n",
      "</span>\n",
      "\n",
      "\n",
      "      face_recognition\n",
      "</a>\n",
      "/ageitgey/face_recognition\n",
      "<a data-hydro-click='{\"event_type\":\"explore.click\",\"payload\":{\"click_context\":\"TRENDING_REPOSITORIES_PAGE\",\"click_target\":\"REPOSITORY\",\"click_visual_representation\":\"REPOSITORY_NAME_HEADING\",\"actor_id\":null,\"record_id\":250876839,\"originating_url\":\"https://github.com/trending/python?since=daily\",\"user_id\":null}}' data-hydro-click-hmac=\"6f3fcd5dd06edd5fa125a9ca3bfa8a3032a4923b65a02fbec9ba85605f276a61\" href=\"/manchenkoff/skillbox-async-chat\">\n",
      "<svg aria-hidden=\"true\" class=\"octicon octicon-repo mr-1 text-gray\" color=\"gray\" height=\"16\" mr=\"1\" version=\"1.1\" viewbox=\"0 0 12 16\" width=\"12\"><path d=\"M4 9H3V8h1v1zm0-3H3v1h1V6zm0-2H3v1h1V4zm0-2H3v1h1V2zm8-1v12c0 .55-.45 1-1 1H6v2l-1.5-1.5L3 16v-2H1c-.55 0-1-.45-1-1V1c0-.55.45-1 1-1h10c.55 0 1 .45 1 1zm-1 10H1v2h2v-1h3v1h5v-2zm0-10H2v9h9V1z\" fill-rule=\"evenodd\"></path></svg>\n",
      "<span class=\"text-normal\">\n",
      "        manchenkoff /\n",
      "</span>\n",
      "\n",
      "\n",
      "      skillbox-async-chat\n",
      "</a>\n",
      "/manchenkoff/skillbox-async-chat\n",
      "<a data-hydro-click='{\"event_type\":\"explore.click\",\"payload\":{\"click_context\":\"TRENDING_REPOSITORIES_PAGE\",\"click_target\":\"REPOSITORY\",\"click_visual_representation\":\"REPOSITORY_NAME_HEADING\",\"actor_id\":null,\"record_id\":246229254,\"originating_url\":\"https://github.com/trending/python?since=daily\",\"user_id\":null}}' data-hydro-click-hmac=\"ee93e3662b39fd1df519e9b4a786f2b13ed7cf267682a09be4b7650a0d8dbcbe\" href=\"/XiaohangZhan/deocclusion\">\n",
      "<svg aria-hidden=\"true\" class=\"octicon octicon-repo mr-1 text-gray\" color=\"gray\" height=\"16\" mr=\"1\" version=\"1.1\" viewbox=\"0 0 12 16\" width=\"12\"><path d=\"M4 9H3V8h1v1zm0-3H3v1h1V6zm0-2H3v1h1V4zm0-2H3v1h1V2zm8-1v12c0 .55-.45 1-1 1H6v2l-1.5-1.5L3 16v-2H1c-.55 0-1-.45-1-1V1c0-.55.45-1 1-1h10c.55 0 1 .45 1 1zm-1 10H1v2h2v-1h3v1h5v-2zm0-10H2v9h9V1z\" fill-rule=\"evenodd\"></path></svg>\n",
      "<span class=\"text-normal\">\n",
      "        XiaohangZhan /\n",
      "</span>\n",
      "\n",
      "\n",
      "      deocclusion\n",
      "</a>\n",
      "/XiaohangZhan/deocclusion\n",
      "<a data-hydro-click='{\"event_type\":\"explore.click\",\"payload\":{\"click_context\":\"TRENDING_REPOSITORIES_PAGE\",\"click_target\":\"REPOSITORY\",\"click_visual_representation\":\"REPOSITORY_NAME_HEADING\",\"actor_id\":null,\"record_id\":215890886,\"originating_url\":\"https://github.com/trending/python?since=daily\",\"user_id\":null}}' data-hydro-click-hmac=\"37365f7e65ae1a38e4d8580e8fadc5b73afa4cfe3010d8fa35ef655ad0071b03\" href=\"/google-research/text-to-text-transfer-transformer\">\n",
      "<svg aria-hidden=\"true\" class=\"octicon octicon-repo mr-1 text-gray\" color=\"gray\" height=\"16\" mr=\"1\" version=\"1.1\" viewbox=\"0 0 12 16\" width=\"12\"><path d=\"M4 9H3V8h1v1zm0-3H3v1h1V6zm0-2H3v1h1V4zm0-2H3v1h1V2zm8-1v12c0 .55-.45 1-1 1H6v2l-1.5-1.5L3 16v-2H1c-.55 0-1-.45-1-1V1c0-.55.45-1 1-1h10c.55 0 1 .45 1 1zm-1 10H1v2h2v-1h3v1h5v-2zm0-10H2v9h9V1z\" fill-rule=\"evenodd\"></path></svg>\n",
      "<span class=\"text-normal\">\n",
      "        google-research /\n",
      "</span>\n",
      "\n",
      "\n",
      "      text-to-text-transfer-transformer\n",
      "</a>\n",
      "/google-research/text-to-text-transfer-transformer\n",
      "<a data-hydro-click='{\"event_type\":\"explore.click\",\"payload\":{\"click_context\":\"TRENDING_REPOSITORIES_PAGE\",\"click_target\":\"REPOSITORY\",\"click_visual_representation\":\"REPOSITORY_NAME_HEADING\",\"actor_id\":null,\"record_id\":206462776,\"originating_url\":\"https://github.com/trending/python?since=daily\",\"user_id\":null}}' data-hydro-click-hmac=\"d2395f937dc3b7af5bb12b8119ef13b919a502daffa89b4af5eaf8b8b9f7c066\" href=\"/kon9chunkit/GitHub-Chinese-Top-Charts\">\n",
      "<svg aria-hidden=\"true\" class=\"octicon octicon-repo mr-1 text-gray\" color=\"gray\" height=\"16\" mr=\"1\" version=\"1.1\" viewbox=\"0 0 12 16\" width=\"12\"><path d=\"M4 9H3V8h1v1zm0-3H3v1h1V6zm0-2H3v1h1V4zm0-2H3v1h1V2zm8-1v12c0 .55-.45 1-1 1H6v2l-1.5-1.5L3 16v-2H1c-.55 0-1-.45-1-1V1c0-.55.45-1 1-1h10c.55 0 1 .45 1 1zm-1 10H1v2h2v-1h3v1h5v-2zm0-10H2v9h9V1z\" fill-rule=\"evenodd\"></path></svg>\n",
      "<span class=\"text-normal\">\n",
      "        kon9chunkit /\n",
      "</span>\n",
      "\n",
      "\n",
      "      GitHub-Chinese-Top-Charts\n",
      "</a>\n",
      "/kon9chunkit/GitHub-Chinese-Top-Charts\n",
      "<a data-hydro-click='{\"event_type\":\"explore.click\",\"payload\":{\"click_context\":\"TRENDING_REPOSITORIES_PAGE\",\"click_target\":\"REPOSITORY\",\"click_visual_representation\":\"REPOSITORY_NAME_HEADING\",\"actor_id\":null,\"record_id\":160919119,\"originating_url\":\"https://github.com/trending/python?since=daily\",\"user_id\":null}}' data-hydro-click-hmac=\"2fa3c30f3e2296f6cda66eed6bf4dbb4d3ddfa27cc31b3023389b4300a84d7a6\" href=\"/tiangolo/fastapi\">\n",
      "<svg aria-hidden=\"true\" class=\"octicon octicon-repo mr-1 text-gray\" color=\"gray\" height=\"16\" mr=\"1\" version=\"1.1\" viewbox=\"0 0 12 16\" width=\"12\"><path d=\"M4 9H3V8h1v1zm0-3H3v1h1V6zm0-2H3v1h1V4zm0-2H3v1h1V2zm8-1v12c0 .55-.45 1-1 1H6v2l-1.5-1.5L3 16v-2H1c-.55 0-1-.45-1-1V1c0-.55.45-1 1-1h10c.55 0 1 .45 1 1zm-1 10H1v2h2v-1h3v1h5v-2zm0-10H2v9h9V1z\" fill-rule=\"evenodd\"></path></svg>\n",
      "<span class=\"text-normal\">\n",
      "        tiangolo /\n",
      "</span>\n",
      "\n",
      "\n",
      "      fastapi\n",
      "</a>\n",
      "/tiangolo/fastapi\n",
      "<a data-hydro-click='{\"event_type\":\"explore.click\",\"payload\":{\"click_context\":\"TRENDING_REPOSITORIES_PAGE\",\"click_target\":\"REPOSITORY\",\"click_visual_representation\":\"REPOSITORY_NAME_HEADING\",\"actor_id\":null,\"record_id\":188660663,\"originating_url\":\"https://github.com/trending/python?since=daily\",\"user_id\":null}}' data-hydro-click-hmac=\"85447b023e6fb7b49a4c14b1261e0628df24c23c96f68abb299001c0ceafe818\" href=\"/CorentinJ/Real-Time-Voice-Cloning\">\n",
      "<svg aria-hidden=\"true\" class=\"octicon octicon-repo mr-1 text-gray\" color=\"gray\" height=\"16\" mr=\"1\" version=\"1.1\" viewbox=\"0 0 12 16\" width=\"12\"><path d=\"M4 9H3V8h1v1zm0-3H3v1h1V6zm0-2H3v1h1V4zm0-2H3v1h1V2zm8-1v12c0 .55-.45 1-1 1H6v2l-1.5-1.5L3 16v-2H1c-.55 0-1-.45-1-1V1c0-.55.45-1 1-1h10c.55 0 1 .45 1 1zm-1 10H1v2h2v-1h3v1h5v-2zm0-10H2v9h9V1z\" fill-rule=\"evenodd\"></path></svg>\n",
      "<span class=\"text-normal\">\n",
      "        CorentinJ /\n",
      "</span>\n",
      "\n",
      "\n",
      "      Real-Time-Voice-Cloning\n",
      "</a>\n",
      "/CorentinJ/Real-Time-Voice-Cloning\n",
      "<a data-hydro-click='{\"event_type\":\"explore.click\",\"payload\":{\"click_context\":\"TRENDING_REPOSITORIES_PAGE\",\"click_target\":\"REPOSITORY\",\"click_visual_representation\":\"REPOSITORY_NAME_HEADING\",\"actor_id\":null,\"record_id\":12888993,\"originating_url\":\"https://github.com/trending/python?since=daily\",\"user_id\":null}}' data-hydro-click-hmac=\"c72d4a9bc77f5e9262e352939f90a91c4b409261e07f73793f902a7b2d57a0ea\" href=\"/home-assistant/core\">\n",
      "<svg aria-hidden=\"true\" class=\"octicon octicon-repo mr-1 text-gray\" color=\"gray\" height=\"16\" mr=\"1\" version=\"1.1\" viewbox=\"0 0 12 16\" width=\"12\"><path d=\"M4 9H3V8h1v1zm0-3H3v1h1V6zm0-2H3v1h1V4zm0-2H3v1h1V2zm8-1v12c0 .55-.45 1-1 1H6v2l-1.5-1.5L3 16v-2H1c-.55 0-1-.45-1-1V1c0-.55.45-1 1-1h10c.55 0 1 .45 1 1zm-1 10H1v2h2v-1h3v1h5v-2zm0-10H2v9h9V1z\" fill-rule=\"evenodd\"></path></svg>\n",
      "<span class=\"text-normal\">\n",
      "        home-assistant /\n",
      "</span>\n",
      "\n",
      "\n",
      "      core\n",
      "</a>\n",
      "/home-assistant/core\n",
      "<a data-hydro-click='{\"event_type\":\"explore.click\",\"payload\":{\"click_context\":\"TRENDING_REPOSITORIES_PAGE\",\"click_target\":\"REPOSITORY\",\"click_visual_representation\":\"REPOSITORY_NAME_HEADING\",\"actor_id\":null,\"record_id\":246642807,\"originating_url\":\"https://github.com/trending/python?since=daily\",\"user_id\":null}}' data-hydro-click-hmac=\"3bfac18cdbfaafa0ba6fdcb0777250742d79da50cce3532b2fa39f49a6c52ea4\" href=\"/alex04072000/ObstructionRemoval\">\n",
      "<svg aria-hidden=\"true\" class=\"octicon octicon-repo mr-1 text-gray\" color=\"gray\" height=\"16\" mr=\"1\" version=\"1.1\" viewbox=\"0 0 12 16\" width=\"12\"><path d=\"M4 9H3V8h1v1zm0-3H3v1h1V6zm0-2H3v1h1V4zm0-2H3v1h1V2zm8-1v12c0 .55-.45 1-1 1H6v2l-1.5-1.5L3 16v-2H1c-.55 0-1-.45-1-1V1c0-.55.45-1 1-1h10c.55 0 1 .45 1 1zm-1 10H1v2h2v-1h3v1h5v-2zm0-10H2v9h9V1z\" fill-rule=\"evenodd\"></path></svg>\n",
      "<span class=\"text-normal\">\n",
      "        alex04072000 /\n",
      "</span>\n",
      "\n",
      "\n",
      "      ObstructionRemoval\n",
      "</a>\n",
      "/alex04072000/ObstructionRemoval\n",
      "<a data-hydro-click='{\"event_type\":\"explore.click\",\"payload\":{\"click_context\":\"TRENDING_REPOSITORIES_PAGE\",\"click_target\":\"REPOSITORY\",\"click_visual_representation\":\"REPOSITORY_NAME_HEADING\",\"actor_id\":null,\"record_id\":250985619,\"originating_url\":\"https://github.com/trending/python?since=daily\",\"user_id\":null}}' data-hydro-click-hmac=\"1d1cb183ac18a8f45de30110851f4669424e7d5fa55ba50c932a0b956a8328aa\" href=\"/pcomputo/Whole-Foods-Delivery-Slot\">\n",
      "<svg aria-hidden=\"true\" class=\"octicon octicon-repo mr-1 text-gray\" color=\"gray\" height=\"16\" mr=\"1\" version=\"1.1\" viewbox=\"0 0 12 16\" width=\"12\"><path d=\"M4 9H3V8h1v1zm0-3H3v1h1V6zm0-2H3v1h1V4zm0-2H3v1h1V2zm8-1v12c0 .55-.45 1-1 1H6v2l-1.5-1.5L3 16v-2H1c-.55 0-1-.45-1-1V1c0-.55.45-1 1-1h10c.55 0 1 .45 1 1zm-1 10H1v2h2v-1h3v1h5v-2zm0-10H2v9h9V1z\" fill-rule=\"evenodd\"></path></svg>\n",
      "<span class=\"text-normal\">\n",
      "        pcomputo /\n",
      "</span>\n",
      "\n",
      "\n",
      "      Whole-Foods-Delivery-Slot\n",
      "</a>\n",
      "/pcomputo/Whole-Foods-Delivery-Slot\n",
      "<a data-hydro-click='{\"event_type\":\"explore.click\",\"payload\":{\"click_context\":\"TRENDING_REPOSITORIES_PAGE\",\"click_target\":\"REPOSITORY\",\"click_visual_representation\":\"REPOSITORY_NAME_HEADING\",\"actor_id\":null,\"record_id\":137186365,\"originating_url\":\"https://github.com/trending/python?since=daily\",\"user_id\":null}}' data-hydro-click-hmac=\"810b7e6dcf1bd78472db06c03f1c87e9c6cf3dc54e48417b4ff12677ad3b6514\" href=\"/CharlesPikachu/Games\">\n",
      "<svg aria-hidden=\"true\" class=\"octicon octicon-repo mr-1 text-gray\" color=\"gray\" height=\"16\" mr=\"1\" version=\"1.1\" viewbox=\"0 0 12 16\" width=\"12\"><path d=\"M4 9H3V8h1v1zm0-3H3v1h1V6zm0-2H3v1h1V4zm0-2H3v1h1V2zm8-1v12c0 .55-.45 1-1 1H6v2l-1.5-1.5L3 16v-2H1c-.55 0-1-.45-1-1V1c0-.55.45-1 1-1h10c.55 0 1 .45 1 1zm-1 10H1v2h2v-1h3v1h5v-2zm0-10H2v9h9V1z\" fill-rule=\"evenodd\"></path></svg>\n",
      "<span class=\"text-normal\">\n",
      "        CharlesPikachu /\n",
      "</span>\n",
      "\n",
      "\n",
      "      Games\n",
      "</a>\n",
      "/CharlesPikachu/Games\n",
      "<a data-hydro-click='{\"event_type\":\"explore.click\",\"payload\":{\"click_context\":\"TRENDING_REPOSITORIES_PAGE\",\"click_target\":\"REPOSITORY\",\"click_visual_representation\":\"REPOSITORY_NAME_HEADING\",\"actor_id\":null,\"record_id\":132709824,\"originating_url\":\"https://github.com/trending/python?since=daily\",\"user_id\":null}}' data-hydro-click-hmac=\"f4468c90b423265383a231f2f6829585f246f3a47b7ad84f2ae47f33769ec831\" href=\"/doccano/doccano\">\n",
      "<svg aria-hidden=\"true\" class=\"octicon octicon-repo mr-1 text-gray\" color=\"gray\" height=\"16\" mr=\"1\" version=\"1.1\" viewbox=\"0 0 12 16\" width=\"12\"><path d=\"M4 9H3V8h1v1zm0-3H3v1h1V6zm0-2H3v1h1V4zm0-2H3v1h1V2zm8-1v12c0 .55-.45 1-1 1H6v2l-1.5-1.5L3 16v-2H1c-.55 0-1-.45-1-1V1c0-.55.45-1 1-1h10c.55 0 1 .45 1 1zm-1 10H1v2h2v-1h3v1h5v-2zm0-10H2v9h9V1z\" fill-rule=\"evenodd\"></path></svg>\n",
      "<span class=\"text-normal\">\n",
      "        doccano /\n",
      "</span>\n",
      "\n",
      "\n",
      "      doccano\n",
      "</a>\n",
      "/doccano/doccano\n",
      "<a data-hydro-click='{\"event_type\":\"explore.click\",\"payload\":{\"click_context\":\"TRENDING_REPOSITORIES_PAGE\",\"click_target\":\"REPOSITORY\",\"click_visual_representation\":\"REPOSITORY_NAME_HEADING\",\"actor_id\":null,\"record_id\":154739597,\"originating_url\":\"https://github.com/trending/python?since=daily\",\"user_id\":null}}' data-hydro-click-hmac=\"9b85e655ebba4c849f73d97cf417edb8fc419fce12bc37e48a363f022553ac43\" href=\"/google/jax\">\n",
      "<svg aria-hidden=\"true\" class=\"octicon octicon-repo mr-1 text-gray\" color=\"gray\" height=\"16\" mr=\"1\" version=\"1.1\" viewbox=\"0 0 12 16\" width=\"12\"><path d=\"M4 9H3V8h1v1zm0-3H3v1h1V6zm0-2H3v1h1V4zm0-2H3v1h1V2zm8-1v12c0 .55-.45 1-1 1H6v2l-1.5-1.5L3 16v-2H1c-.55 0-1-.45-1-1V1c0-.55.45-1 1-1h10c.55 0 1 .45 1 1zm-1 10H1v2h2v-1h3v1h5v-2zm0-10H2v9h9V1z\" fill-rule=\"evenodd\"></path></svg>\n",
      "<span class=\"text-normal\">\n",
      "        google /\n",
      "</span>\n",
      "\n",
      "\n",
      "      jax\n",
      "</a>\n",
      "/google/jax\n",
      "<a data-hydro-click='{\"event_type\":\"explore.click\",\"payload\":{\"click_context\":\"TRENDING_REPOSITORIES_PAGE\",\"click_target\":\"REPOSITORY\",\"click_visual_representation\":\"REPOSITORY_NAME_HEADING\",\"actor_id\":null,\"record_id\":24976755,\"originating_url\":\"https://github.com/trending/python?since=daily\",\"user_id\":null}}' data-hydro-click-hmac=\"7a1c8bc6ea0f34cb206198cbf1b9c528cb0077ce1aa5b3fc47caf0a1b61c24e2\" href=\"/hankcs/HanLP\">\n",
      "<svg aria-hidden=\"true\" class=\"octicon octicon-repo mr-1 text-gray\" color=\"gray\" height=\"16\" mr=\"1\" version=\"1.1\" viewbox=\"0 0 12 16\" width=\"12\"><path d=\"M4 9H3V8h1v1zm0-3H3v1h1V6zm0-2H3v1h1V4zm0-2H3v1h1V2zm8-1v12c0 .55-.45 1-1 1H6v2l-1.5-1.5L3 16v-2H1c-.55 0-1-.45-1-1V1c0-.55.45-1 1-1h10c.55 0 1 .45 1 1zm-1 10H1v2h2v-1h3v1h5v-2zm0-10H2v9h9V1z\" fill-rule=\"evenodd\"></path></svg>\n",
      "<span class=\"text-normal\">\n",
      "        hankcs /\n",
      "</span>\n",
      "\n",
      "\n",
      "      HanLP\n",
      "</a>\n",
      "/hankcs/HanLP\n",
      "<a data-hydro-click='{\"event_type\":\"explore.click\",\"payload\":{\"click_context\":\"TRENDING_REPOSITORIES_PAGE\",\"click_target\":\"REPOSITORY\",\"click_visual_representation\":\"REPOSITORY_NAME_HEADING\",\"actor_id\":null,\"record_id\":87314289,\"originating_url\":\"https://github.com/trending/python?since=daily\",\"user_id\":null}}' data-hydro-click-hmac=\"7985ae5945c12fa9f2a434f3a924e9fd80237f9e440d6974fe56789167bc5cbb\" href=\"/Sentdex/pygta5\">\n",
      "<svg aria-hidden=\"true\" class=\"octicon octicon-repo mr-1 text-gray\" color=\"gray\" height=\"16\" mr=\"1\" version=\"1.1\" viewbox=\"0 0 12 16\" width=\"12\"><path d=\"M4 9H3V8h1v1zm0-3H3v1h1V6zm0-2H3v1h1V4zm0-2H3v1h1V2zm8-1v12c0 .55-.45 1-1 1H6v2l-1.5-1.5L3 16v-2H1c-.55 0-1-.45-1-1V1c0-.55.45-1 1-1h10c.55 0 1 .45 1 1zm-1 10H1v2h2v-1h3v1h5v-2zm0-10H2v9h9V1z\" fill-rule=\"evenodd\"></path></svg>\n",
      "<span class=\"text-normal\">\n",
      "        Sentdex /\n",
      "</span>\n",
      "\n",
      "\n",
      "      pygta5\n",
      "</a>\n",
      "/Sentdex/pygta5\n",
      "<a data-hydro-click='{\"event_type\":\"explore.click\",\"payload\":{\"click_context\":\"TRENDING_REPOSITORIES_PAGE\",\"click_target\":\"REPOSITORY\",\"click_visual_representation\":\"REPOSITORY_NAME_HEADING\",\"actor_id\":null,\"record_id\":71932349,\"originating_url\":\"https://github.com/trending/python?since=daily\",\"user_id\":null}}' data-hydro-click-hmac=\"df0c1e728e5d4fc97ee1f2b5c4d931ac8e7a4e4cfe7c9faf68547a7cc4d14d1e\" href=\"/ray-project/ray\">\n",
      "<svg aria-hidden=\"true\" class=\"octicon octicon-repo mr-1 text-gray\" color=\"gray\" height=\"16\" mr=\"1\" version=\"1.1\" viewbox=\"0 0 12 16\" width=\"12\"><path d=\"M4 9H3V8h1v1zm0-3H3v1h1V6zm0-2H3v1h1V4zm0-2H3v1h1V2zm8-1v12c0 .55-.45 1-1 1H6v2l-1.5-1.5L3 16v-2H1c-.55 0-1-.45-1-1V1c0-.55.45-1 1-1h10c.55 0 1 .45 1 1zm-1 10H1v2h2v-1h3v1h5v-2zm0-10H2v9h9V1z\" fill-rule=\"evenodd\"></path></svg>\n",
      "<span class=\"text-normal\">\n",
      "        ray-project /\n",
      "</span>\n",
      "\n",
      "\n",
      "      ray\n",
      "</a>\n",
      "/ray-project/ray\n",
      "<a data-hydro-click='{\"event_type\":\"explore.click\",\"payload\":{\"click_context\":\"TRENDING_REPOSITORIES_PAGE\",\"click_target\":\"REPOSITORY\",\"click_visual_representation\":\"REPOSITORY_NAME_HEADING\",\"actor_id\":null,\"record_id\":27091760,\"originating_url\":\"https://github.com/trending/python?since=daily\",\"user_id\":null}}' data-hydro-click-hmac=\"d027086a7852dd3ee1575c1cfc0911ea35dd785255cfcb753289b37104063100\" href=\"/Yelp/elastalert\">\n",
      "<svg aria-hidden=\"true\" class=\"octicon octicon-repo mr-1 text-gray\" color=\"gray\" height=\"16\" mr=\"1\" version=\"1.1\" viewbox=\"0 0 12 16\" width=\"12\"><path d=\"M4 9H3V8h1v1zm0-3H3v1h1V6zm0-2H3v1h1V4zm0-2H3v1h1V2zm8-1v12c0 .55-.45 1-1 1H6v2l-1.5-1.5L3 16v-2H1c-.55 0-1-.45-1-1V1c0-.55.45-1 1-1h10c.55 0 1 .45 1 1zm-1 10H1v2h2v-1h3v1h5v-2zm0-10H2v9h9V1z\" fill-rule=\"evenodd\"></path></svg>\n",
      "<span class=\"text-normal\">\n",
      "        Yelp /\n",
      "</span>\n",
      "\n",
      "\n",
      "      elastalert\n",
      "</a>\n",
      "/Yelp/elastalert\n",
      "<a data-hydro-click='{\"event_type\":\"explore.click\",\"payload\":{\"click_context\":\"TRENDING_REPOSITORIES_PAGE\",\"click_target\":\"REPOSITORY\",\"click_visual_representation\":\"REPOSITORY_NAME_HEADING\",\"actor_id\":null,\"record_id\":69290591,\"originating_url\":\"https://github.com/trending/python?since=daily\",\"user_id\":null}}' data-hydro-click-hmac=\"714b392d15b6def62f99a77a6fa3d0fad0476b61cdca82f30dba9654995329cd\" href=\"/timgrossmann/InstaPy\">\n",
      "<svg aria-hidden=\"true\" class=\"octicon octicon-repo mr-1 text-gray\" color=\"gray\" height=\"16\" mr=\"1\" version=\"1.1\" viewbox=\"0 0 12 16\" width=\"12\"><path d=\"M4 9H3V8h1v1zm0-3H3v1h1V6zm0-2H3v1h1V4zm0-2H3v1h1V2zm8-1v12c0 .55-.45 1-1 1H6v2l-1.5-1.5L3 16v-2H1c-.55 0-1-.45-1-1V1c0-.55.45-1 1-1h10c.55 0 1 .45 1 1zm-1 10H1v2h2v-1h3v1h5v-2zm0-10H2v9h9V1z\" fill-rule=\"evenodd\"></path></svg>\n",
      "<span class=\"text-normal\">\n",
      "        timgrossmann /\n",
      "</span>\n",
      "\n",
      "\n",
      "      InstaPy\n",
      "</a>\n",
      "/timgrossmann/InstaPy\n",
      "<a data-hydro-click='{\"event_type\":\"explore.click\",\"payload\":{\"click_context\":\"TRENDING_REPOSITORIES_PAGE\",\"click_target\":\"REPOSITORY\",\"click_visual_representation\":\"REPOSITORY_NAME_HEADING\",\"actor_id\":null,\"record_id\":155220641,\"originating_url\":\"https://github.com/trending/python?since=daily\",\"user_id\":null}}' data-hydro-click-hmac=\"ea921d573ceb1804c21cdd27f6ad5deff45023c8a84800bf8056f9dec3c4cc1c\" href=\"/huggingface/transformers\">\n",
      "<svg aria-hidden=\"true\" class=\"octicon octicon-repo mr-1 text-gray\" color=\"gray\" height=\"16\" mr=\"1\" version=\"1.1\" viewbox=\"0 0 12 16\" width=\"12\"><path d=\"M4 9H3V8h1v1zm0-3H3v1h1V6zm0-2H3v1h1V4zm0-2H3v1h1V2zm8-1v12c0 .55-.45 1-1 1H6v2l-1.5-1.5L3 16v-2H1c-.55 0-1-.45-1-1V1c0-.55.45-1 1-1h10c.55 0 1 .45 1 1zm-1 10H1v2h2v-1h3v1h5v-2zm0-10H2v9h9V1z\" fill-rule=\"evenodd\"></path></svg>\n",
      "<span class=\"text-normal\">\n",
      "        huggingface /\n",
      "</span>\n",
      "\n",
      "\n",
      "      transformers\n",
      "</a>\n",
      "/huggingface/transformers\n",
      "<a data-hydro-click='{\"event_type\":\"explore.click\",\"payload\":{\"click_context\":\"TRENDING_REPOSITORIES_PAGE\",\"click_target\":\"REPOSITORY\",\"click_visual_representation\":\"REPOSITORY_NAME_HEADING\",\"actor_id\":null,\"record_id\":237805550,\"originating_url\":\"https://github.com/trending/python?since=daily\",\"user_id\":null}}' data-hydro-click-hmac=\"ead7968255a49e02382a372da413c1296cc7a88c73f9bb99d275552a72d296ef\" href=\"/ikergarcia1996/Self-Driving-Car-in-Video-Games\">\n",
      "<svg aria-hidden=\"true\" class=\"octicon octicon-repo mr-1 text-gray\" color=\"gray\" height=\"16\" mr=\"1\" version=\"1.1\" viewbox=\"0 0 12 16\" width=\"12\"><path d=\"M4 9H3V8h1v1zm0-3H3v1h1V6zm0-2H3v1h1V4zm0-2H3v1h1V2zm8-1v12c0 .55-.45 1-1 1H6v2l-1.5-1.5L3 16v-2H1c-.55 0-1-.45-1-1V1c0-.55.45-1 1-1h10c.55 0 1 .45 1 1zm-1 10H1v2h2v-1h3v1h5v-2zm0-10H2v9h9V1z\" fill-rule=\"evenodd\"></path></svg>\n",
      "<span class=\"text-normal\">\n",
      "        ikergarcia1996 /\n",
      "</span>\n",
      "\n",
      "\n",
      "      Self-Driving-Car-in-Video-Games\n",
      "</a>\n",
      "/ikergarcia1996/Self-Driving-Car-in-Video-Games\n",
      "<a data-hydro-click='{\"event_type\":\"explore.click\",\"payload\":{\"click_context\":\"TRENDING_REPOSITORIES_PAGE\",\"click_target\":\"REPOSITORY\",\"click_visual_representation\":\"REPOSITORY_NAME_HEADING\",\"actor_id\":null,\"record_id\":100249425,\"originating_url\":\"https://github.com/trending/python?since=daily\",\"user_id\":null}}' data-hydro-click-hmac=\"cc23ef97c181f4e9a3bee826a069ef5123cb8495a6c10938d54dcb5273b60c53\" href=\"/fizyr/keras-retinanet\">\n",
      "<svg aria-hidden=\"true\" class=\"octicon octicon-repo mr-1 text-gray\" color=\"gray\" height=\"16\" mr=\"1\" version=\"1.1\" viewbox=\"0 0 12 16\" width=\"12\"><path d=\"M4 9H3V8h1v1zm0-3H3v1h1V6zm0-2H3v1h1V4zm0-2H3v1h1V2zm8-1v12c0 .55-.45 1-1 1H6v2l-1.5-1.5L3 16v-2H1c-.55 0-1-.45-1-1V1c0-.55.45-1 1-1h10c.55 0 1 .45 1 1zm-1 10H1v2h2v-1h3v1h5v-2zm0-10H2v9h9V1z\" fill-rule=\"evenodd\"></path></svg>\n",
      "<span class=\"text-normal\">\n",
      "        fizyr /\n",
      "</span>\n",
      "\n",
      "\n",
      "      keras-retinanet\n",
      "</a>\n",
      "/fizyr/keras-retinanet\n",
      "<a data-hydro-click='{\"event_type\":\"explore.click\",\"payload\":{\"click_context\":\"TRENDING_REPOSITORIES_PAGE\",\"click_target\":\"REPOSITORY\",\"click_visual_representation\":\"REPOSITORY_NAME_HEADING\",\"actor_id\":null,\"record_id\":33884891,\"originating_url\":\"https://github.com/trending/python?since=daily\",\"user_id\":null}}' data-hydro-click-hmac=\"f0656a56d03e8e1cd305e840010b82f5f5e21c587f585bcf5059443f72ee5db3\" href=\"/apache/airflow\">\n",
      "<svg aria-hidden=\"true\" class=\"octicon octicon-repo mr-1 text-gray\" color=\"gray\" height=\"16\" mr=\"1\" version=\"1.1\" viewbox=\"0 0 12 16\" width=\"12\"><path d=\"M4 9H3V8h1v1zm0-3H3v1h1V6zm0-2H3v1h1V4zm0-2H3v1h1V2zm8-1v12c0 .55-.45 1-1 1H6v2l-1.5-1.5L3 16v-2H1c-.55 0-1-.45-1-1V1c0-.55.45-1 1-1h10c.55 0 1 .45 1 1zm-1 10H1v2h2v-1h3v1h5v-2zm0-10H2v9h9V1z\" fill-rule=\"evenodd\"></path></svg>\n",
      "<span class=\"text-normal\">\n",
      "        apache /\n",
      "</span>\n",
      "\n",
      "\n",
      "      airflow\n",
      "</a>\n",
      "/apache/airflow\n"
     ]
    }
   ],
   "source": [
    "for tag in soup1.select('.h3.lh-condensed'):\n",
    "\n",
    "        \n",
    "    it=tag.find('a')\n",
    "    \n",
    "    a=it.text.strip()\n",
    "    b=it.get('href')\n",
    "    print(b)\n"
   ]
  },
  {
   "cell_type": "markdown",
   "metadata": {},
   "source": [
    "#### Display all the image links from Walt Disney wikipedia page"
   ]
  },
  {
   "cell_type": "code",
   "execution_count": 8,
   "metadata": {},
   "outputs": [
    {
     "name": "stdout",
     "output_type": "stream",
     "text": [
      "<Response [200]>\n"
     ]
    }
   ],
   "source": [
    "# This is the url you will scrape in this exercise\n",
    "url2 = 'https://en.wikipedia.org/wiki/Walt_Disney'\n",
    "\n",
    "res=requests.get(url2)\n",
    "print(res)\n",
    "soup2 = BeautifulSoup(res.text,'html.parser')\n"
   ]
  },
  {
   "cell_type": "code",
   "execution_count": 9,
   "metadata": {},
   "outputs": [
    {
     "name": "stdout",
     "output_type": "stream",
     "text": [
      "//upload.wikimedia.org/wikipedia/commons/thumb/c/c4/Walt_Disney_envelope_ca._1921.jpg/220px-Walt_Disney_envelope_ca._1921.jpg\n",
      "//upload.wikimedia.org/wikipedia/commons/thumb/1/15/Disney_drawing_goofy.jpg/170px-Disney_drawing_goofy.jpg\n",
      "//upload.wikimedia.org/wikipedia/commons/thumb/8/8c/WaltDisneyplansDisneylandDec1954.jpg/220px-WaltDisneyplansDisneylandDec1954.jpg\n",
      "//upload.wikimedia.org/wikipedia/commons/thumb/f/ff/Walt_disney_portrait_right.jpg/170px-Walt_disney_portrait_right.jpg\n",
      "//upload.wikimedia.org/wikipedia/commons/thumb/1/1a/Walt_Disney_Grave.JPG/170px-Walt_Disney_Grave.JPG\n"
     ]
    }
   ],
   "source": [
    "for tag in soup2.select('.thumb.tleft'):\n",
    "    it=tag.find('img')\n",
    "    \n",
    "    it.get('src')\n",
    "    print(it.get('src'))"
   ]
  },
  {
   "cell_type": "markdown",
   "metadata": {},
   "source": [
    "#### Retrieve an arbitary Wikipedia page of \"Python\" and create a list of links on that page"
   ]
  },
  {
   "cell_type": "code",
   "execution_count": 10,
   "metadata": {},
   "outputs": [
    {
     "name": "stdout",
     "output_type": "stream",
     "text": [
      "<Response [200]>\n"
     ]
    }
   ],
   "source": [
    "# This is the url you will scrape in this exercise\n",
    "url3 ='https://en.wikipedia.org/wiki/Python' \n",
    "\n",
    "res=requests.get(url3)\n",
    "print(res)\n",
    "soup3 = BeautifulSoup(res.text,'html.parser')"
   ]
  },
  {
   "cell_type": "code",
   "execution_count": 11,
   "metadata": {},
   "outputs": [
    {
     "name": "stdout",
     "output_type": "stream",
     "text": [
      "wiktionary:python\n"
     ]
    },
    {
     "data": {
      "text/plain": [
       "['wiktionary:Python',\n",
       " 'wiktionary:python',\n",
       " None,\n",
       " None,\n",
       " None,\n",
       " 'Edit section: Snakes',\n",
       " 'Pythonidae',\n",
       " 'Python (genus)',\n",
       " 'Edit section: Ancient Greece',\n",
       " 'Python (mythology)',\n",
       " 'Python of Aenus',\n",
       " 'Python (painter)',\n",
       " 'Python of Byzantium',\n",
       " 'Python of Catana',\n",
       " 'Edit section: Media and entertainment',\n",
       " 'Python (film)',\n",
       " 'Pythons 2',\n",
       " 'Monty Python',\n",
       " 'Python (Monty) Pictures',\n",
       " 'Edit section: Computing',\n",
       " 'Python (programming language)',\n",
       " 'CPython',\n",
       " 'CMU Common Lisp',\n",
       " 'PERQ',\n",
       " 'Edit section: Engineering',\n",
       " 'Edit section: Roller coasters',\n",
       " 'Python (Busch Gardens Tampa Bay)',\n",
       " 'Python (Coney Island, Cincinnati, Ohio)',\n",
       " 'Python (Efteling)',\n",
       " 'Edit section: Vehicles',\n",
       " 'Python (automobile maker)',\n",
       " 'Python (Ford prototype)',\n",
       " 'Edit section: Weaponry',\n",
       " 'Colt Python',\n",
       " 'Python (missile)',\n",
       " 'Python (nuclear primary)',\n",
       " 'Edit section: People',\n",
       " 'Python Anghelo',\n",
       " 'Edit section: Other uses',\n",
       " 'PYTHON',\n",
       " 'Edit section: See also',\n",
       " 'Cython',\n",
       " 'Pyton',\n",
       " None,\n",
       " 'Help:Disambiguation',\n",
       " None]"
      ]
     },
     "execution_count": 11,
     "metadata": {},
     "output_type": "execute_result"
    }
   ],
   "source": [
    "# No he visto los links en esa url, solo los nombres con los hipervinculos..\n",
    "for tag in soup3.select('.mw-parser-output'):\n",
    "    it=tag.find_all('a')\n",
    "print(it[1].get('title'))\n",
    "\n",
    "link=[it.get('title') for it in it]\n",
    "for none in link:\n",
    "    if none == None:\n",
    "        link.remove(none)\n",
    "link"
   ]
  },
  {
   "cell_type": "code",
   "execution_count": null,
   "metadata": {},
   "outputs": [],
   "source": []
  },
  {
   "cell_type": "markdown",
   "metadata": {},
   "source": [
    "#### Number of Titles that have changed in the United States Code since its last release point "
   ]
  },
  {
   "cell_type": "code",
   "execution_count": 12,
   "metadata": {},
   "outputs": [
    {
     "name": "stdout",
     "output_type": "stream",
     "text": [
      "<Response [200]>\n"
     ]
    }
   ],
   "source": [
    "# This is the url you will scrape in this exercise\n",
    "url4 = 'http://uscode.house.gov/download/download.shtml'\n",
    "res=requests.get(url4)\n",
    "print(res)\n",
    "soup4 = BeautifulSoup(res.text,'html.parser')"
   ]
  },
  {
   "cell_type": "code",
   "execution_count": 13,
   "metadata": {},
   "outputs": [
    {
     "name": "stdout",
     "output_type": "stream",
     "text": [
      "All titles in the format selected compressed into a zip archive.\n",
      "\n",
      "Title 1 - General Provisions ٭\n",
      "Title 2 - The Congress\n",
      "Title 3 - The President ٭\n",
      "Title 4 - Flag and Seal, Seat of Government, and the States ٭\n",
      "Title 5 - Government Organization and Employees ٭\n",
      "Title 6 - Domestic Security\n",
      "Title 7 - Agriculture\n",
      "Title 9 - Arbitration ٭\n",
      "Title 10 - Armed Forces ٭\n",
      "Title 11 - Bankruptcy ٭\n",
      "Title 12 - Banks and Banking\n",
      "Title 13 - Census ٭\n",
      "Title 14 - Coast Guard ٭\n",
      "Title 15 - Commerce and Trade\n",
      "Title 16 - Conservation\n",
      "Title 17 - Copyrights ٭\n",
      "Title 18 - Crimes and Criminal Procedure ٭\n",
      "Title 19 - Customs Duties\n",
      "Title 20 - Education\n",
      "Title 21 - Food and Drugs\n",
      "Title 23 - Highways ٭\n",
      "Title 24 - Hospitals and Asylums\n",
      "Title 25 - Indians\n",
      "Title 26 - Internal Revenue Code\n",
      "Title 27 - Intoxicating Liquors\n",
      "Title 28 - Judiciary and Judicial Procedure ٭\n",
      "Title 30 - Mineral Lands and Mining\n",
      "Title 31 - Money and Finance ٭\n",
      "Title 32 - National Guard ٭\n",
      "Title 33 - Navigation and Navigable Waters\n",
      "Title 34 - Crime Control and Law Enforcement\n",
      "Title 35 - Patents ٭\n",
      "Title 36 - Patriotic and National Observances, Ceremonies, and Organizations ٭\n",
      "Title 37 - Pay and Allowances of the Uniformed Services ٭\n",
      "Title 38 - Veterans' Benefits ٭\n",
      "Title 39 - Postal Service ٭\n",
      "Title 40 - Public Buildings, Property, and Works ٭\n",
      "Title 41 - Public Contracts ٭\n",
      "Title 43 - Public Lands\n",
      "Title 44 - Public Printing and Documents ٭\n",
      "Title 45 - Railroads\n",
      "Title 46 - Shipping ٭\n",
      "Title 47 - Telecommunications\n",
      "Title 48 - Territories and Insular Possessions\n",
      "Title 49 - Transportation ٭\n",
      "Title 50 - War and National Defense\n",
      "Title 51 - National and Commercial Space Programs ٭\n",
      "Title 52 - Voting and Elections\n",
      "Title 53 [Reserved]\n",
      "Title 54 - National Park Service and Related Programs ٭\n"
     ]
    }
   ],
   "source": [
    "for tag in soup4.select('.usctitle'):\n",
    "    print(tag.text.strip())\n",
    "    it=tag.find('usctitle')\n",
    "    "
   ]
  },
  {
   "cell_type": "markdown",
   "metadata": {},
   "source": [
    "#### A Python list with the top ten FBI's Most Wanted names "
   ]
  },
  {
   "cell_type": "code",
   "execution_count": 14,
   "metadata": {},
   "outputs": [
    {
     "name": "stdout",
     "output_type": "stream",
     "text": [
      "<Response [200]>\n"
     ]
    }
   ],
   "source": [
    "# This is the url you will scrape in this exercise\n",
    "url5 = 'https://www.fbi.gov/wanted/topten'\n",
    "res=requests.get(url5)\n",
    "print(res)\n",
    "soup5 = BeautifulSoup(res.text,'html.parser')"
   ]
  },
  {
   "cell_type": "code",
   "execution_count": 15,
   "metadata": {},
   "outputs": [
    {
     "name": "stdout",
     "output_type": "stream",
     "text": [
      "Most Wanted\n",
      "YASER ABDEL SAID\n",
      "ALEXIS FLORES\n",
      "EUGENE PALMER\n",
      "SANTIAGO VILLALBA MEDEROS\n",
      "RAFAEL CARO-QUINTERO\n",
      "ROBERT WILLIAM FISHER\n",
      "BHADRESHKUMAR CHETANBHAI PATEL\n",
      "ALEJANDRO ROSALES CASTILLO\n",
      "ARNOLDO JIMENEZ\n",
      "JASON DEREK BROWN\n"
     ]
    }
   ],
   "source": [
    "for tag in soup5.select('.title'):\n",
    "    it=tag.find('a')\n",
    "    print(it.text)\n",
    "    "
   ]
  },
  {
   "cell_type": "markdown",
   "metadata": {},
   "source": [
    "####  20 latest earthquakes info (date, time, latitude, longitude and region name) by the EMSC as a pandas dataframe"
   ]
  },
  {
   "cell_type": "code",
   "execution_count": 16,
   "metadata": {},
   "outputs": [
    {
     "name": "stdout",
     "output_type": "stream",
     "text": [
      "<Response [200]>\n"
     ]
    }
   ],
   "source": [
    "# This is the url you will scrape in this exercise\n",
    "url10 = 'https://www.emsc-csem.org/Earthquake/'\n",
    "res=requests.get(url10)\n",
    "print(res)\n",
    "soup10 = BeautifulSoup(res.text,'html.parser')"
   ]
  },
  {
   "cell_type": "code",
   "execution_count": 30,
   "metadata": {},
   "outputs": [
    {
     "name": "stdout",
     "output_type": "stream",
     "text": [
      "None\n"
     ]
    },
    {
     "ename": "AttributeError",
     "evalue": "'NoneType' object has no attribute 'text'",
     "output_type": "error",
     "traceback": [
      "\u001b[0;31m---------------------------------------------------------------------------\u001b[0m",
      "\u001b[0;31mAttributeError\u001b[0m                            Traceback (most recent call last)",
      "\u001b[0;32m<ipython-input-30-513a2cbd6a39>\u001b[0m in \u001b[0;36m<module>\u001b[0;34m\u001b[0m\n\u001b[1;32m      3\u001b[0m     \u001b[0mit\u001b[0m\u001b[0;34m=\u001b[0m\u001b[0mtag\u001b[0m\u001b[0;34m.\u001b[0m\u001b[0mfind\u001b[0m\u001b[0;34m(\u001b[0m\u001b[0;34m'a'\u001b[0m\u001b[0;34m)\u001b[0m\u001b[0;34m\u001b[0m\u001b[0;34m\u001b[0m\u001b[0m\n\u001b[1;32m      4\u001b[0m     \u001b[0mprint\u001b[0m\u001b[0;34m(\u001b[0m\u001b[0mit\u001b[0m\u001b[0;34m)\u001b[0m\u001b[0;34m\u001b[0m\u001b[0;34m\u001b[0m\u001b[0m\n\u001b[0;32m----> 5\u001b[0;31m     \u001b[0ma\u001b[0m\u001b[0;34m=\u001b[0m\u001b[0mit\u001b[0m\u001b[0;34m.\u001b[0m\u001b[0mtext\u001b[0m\u001b[0;34m\u001b[0m\u001b[0;34m\u001b[0m\u001b[0m\n\u001b[0m\u001b[1;32m      6\u001b[0m \u001b[0;34m\u001b[0m\u001b[0m\n\u001b[1;32m      7\u001b[0m \"\"\"    a=it.text.strip()\n",
      "\u001b[0;31mAttributeError\u001b[0m: 'NoneType' object has no attribute 'text'"
     ]
    }
   ],
   "source": [
    "\n",
    "for tag in soup10.select('tr'):\n",
    "    \n",
    "    it=tag.find('a')\n",
    "    print(it)\n",
    "    a=it.text\n",
    "    \n",
    "\"\"\"    a=it.text.strip()\n",
    "    \n",
    "    b=it.get('href')\n",
    "    dev=a,b\n",
    "    print(dev)\"\"\""
   ]
  },
  {
   "cell_type": "code",
   "execution_count": null,
   "metadata": {},
   "outputs": [],
   "source": []
  },
  {
   "cell_type": "code",
   "execution_count": null,
   "metadata": {},
   "outputs": [],
   "source": [
    "[table.get(\"a\") for table in tables]"
   ]
  },
  {
   "cell_type": "markdown",
   "metadata": {},
   "source": [
    "#### Display the date, days, title, city, country of next 25 hackathon events as a Pandas dataframe table"
   ]
  },
  {
   "cell_type": "code",
   "execution_count": null,
   "metadata": {},
   "outputs": [],
   "source": [
    "# This is the url you will scrape in this exercise\n",
    "url1 ='https://hackevents.co/hackathons'\n",
    "res=requests.get(url10)\n",
    "print(res)\n",
    "soup10 = BeautifulSoup(res.text,'html.parser')"
   ]
  },
  {
   "cell_type": "code",
   "execution_count": null,
   "metadata": {},
   "outputs": [],
   "source": []
  },
  {
   "cell_type": "markdown",
   "metadata": {},
   "source": [
    "#### Count number of tweets by a given Twitter account."
   ]
  },
  {
   "cell_type": "markdown",
   "metadata": {},
   "source": [
    "You will need to include a ***try/except block*** for account names not found. \n",
    "<br>***Hint:*** the program should count the number of tweets for any provided account"
   ]
  },
  {
   "cell_type": "code",
   "execution_count": null,
   "metadata": {},
   "outputs": [],
   "source": [
    "# This is the url you will scrape in this exercise \n",
    "# You will need to add the account credentials to this url\n",
    "url = 'https://twitter.com/'"
   ]
  },
  {
   "cell_type": "code",
   "execution_count": null,
   "metadata": {},
   "outputs": [],
   "source": []
  },
  {
   "cell_type": "markdown",
   "metadata": {},
   "source": [
    "#### Number of followers of a given twitter account"
   ]
  },
  {
   "cell_type": "markdown",
   "metadata": {},
   "source": [
    "You will need to include a ***try/except block*** in case account/s name not found. \n",
    "<br>***Hint:*** the program should count the followers for any provided account"
   ]
  },
  {
   "cell_type": "code",
   "execution_count": 19,
   "metadata": {},
   "outputs": [
    {
     "name": "stdout",
     "output_type": "stream",
     "text": [
      "<Response [200]>\n"
     ]
    }
   ],
   "source": [
    "# This is the url you will scrape in this exercise \n",
    "# You will need to add the account credentials to this url\n",
    "urlx = 'https://twitter.com/luisaph92'\n",
    "res=requests.get(urlx)\n",
    "print(res)\n",
    "soupx = BeautifulSoup(res.text,'html.parser')"
   ]
  },
  {
   "cell_type": "code",
   "execution_count": 115,
   "metadata": {},
   "outputs": [
    {
     "name": "stdout",
     "output_type": "stream",
     "text": [
      "None\n"
     ]
    }
   ],
   "source": [
    "luisa=soupx.find('a')\n",
    "\n",
    "it=luisa.get('title')\n",
    "print(it)\n",
    "num=tag.get('title')\n",
    "#print(num)\n",
    "#print(it)\n",
    "#num=tag.find('a')\n",
    "#print(num.)"
   ]
  },
  {
   "cell_type": "markdown",
   "metadata": {},
   "source": [
    "#### List all language names and number of related articles in the order they appear in wikipedia.org"
   ]
  },
  {
   "cell_type": "code",
   "execution_count": 24,
   "metadata": {},
   "outputs": [
    {
     "name": "stdout",
     "output_type": "stream",
     "text": [
      "<Response [200]>\n"
     ]
    }
   ],
   "source": [
    "# This is the url you will scrape in this exercise\n",
    "url9 = 'https://www.wikipedia.org/'\n",
    "res=requests.get(url9)\n",
    "print(res)\n",
    "soup9 = BeautifulSoup(res.text,'html.parser')"
   ]
  },
  {
   "cell_type": "code",
   "execution_count": 25,
   "metadata": {},
   "outputs": [
    {
     "name": "stdout",
     "output_type": "stream",
     "text": [
      "[('English', '6\\xa0050\\xa0000+')]\n"
     ]
    }
   ],
   "source": [
    "for tag in soup9.select('.central-featured'):\n",
    "    it=tag.find('strong')\n",
    "    num=tag.find('bdi')\n",
    "    idioma=list(zip(it,num))\n",
    "print(idioma)"
   ]
  },
  {
   "cell_type": "code",
   "execution_count": null,
   "metadata": {},
   "outputs": [],
   "source": [
    "# No se que hago mal que no puedo pasarlo a text me dice que list no puede, tuple no puede y str no puedo solo si pongo find en vez de find all \n",
    "# pero entonces no puedo obtener todo lo que necesito..\n",
    "for tag in soup9.select('.central-featured'):\n",
    "    it=tag.find_all('strong')\n",
    "    \n",
    "    num=tag.find_all('bdi')\n",
    "    \n",
    "country=list((map(lambda it: it.text,it)))\n",
    "language=list((map(lambda num: num.text,num)))\n",
    "\n",
    "zipp=list(zip(country,language))\n",
    "zipp\n"
   ]
  },
  {
   "cell_type": "code",
   "execution_count": null,
   "metadata": {},
   "outputs": [],
   "source": []
  },
  {
   "cell_type": "markdown",
   "metadata": {},
   "source": [
    "#### A list with the different kind of datasets available in data.gov.uk "
   ]
  },
  {
   "cell_type": "code",
   "execution_count": null,
   "metadata": {},
   "outputs": [],
   "source": [
    "# This is the url you will scrape in this exercise\n",
    "url = 'https://data.gov.uk/'"
   ]
  },
  {
   "cell_type": "code",
   "execution_count": null,
   "metadata": {},
   "outputs": [],
   "source": [
    "#your code "
   ]
  },
  {
   "cell_type": "markdown",
   "metadata": {},
   "source": [
    "#### Top 10 languages by number of native speakers stored in a Pandas Dataframe"
   ]
  },
  {
   "cell_type": "code",
   "execution_count": null,
   "metadata": {},
   "outputs": [],
   "source": [
    "# This is the url you will scrape in this exercise\n",
    "url = 'https://en.wikipedia.org/wiki/List_of_languages_by_number_of_native_speakers'"
   ]
  },
  {
   "cell_type": "code",
   "execution_count": null,
   "metadata": {},
   "outputs": [],
   "source": [
    "#your code"
   ]
  },
  {
   "cell_type": "markdown",
   "metadata": {},
   "source": [
    "### BONUS QUESTIONS"
   ]
  },
  {
   "cell_type": "markdown",
   "metadata": {},
   "source": [
    "#### Scrape a certain number of tweets of a given Twitter account."
   ]
  },
  {
   "cell_type": "code",
   "execution_count": null,
   "metadata": {},
   "outputs": [],
   "source": [
    "# This is the url you will scrape in this exercise \n",
    "# You will need to add the account credentials to this url\n",
    "url = 'https://twitter.com/'"
   ]
  },
  {
   "cell_type": "code",
   "execution_count": null,
   "metadata": {},
   "outputs": [],
   "source": [
    "# your code"
   ]
  },
  {
   "cell_type": "markdown",
   "metadata": {},
   "source": [
    "#### IMDB's Top 250 data (movie name, Initial release, director name and stars) as a pandas dataframe"
   ]
  },
  {
   "cell_type": "code",
   "execution_count": null,
   "metadata": {},
   "outputs": [],
   "source": [
    "# This is the url you will scrape in this exercise \n",
    "url = 'https://www.imdb.com/chart/top'"
   ]
  },
  {
   "cell_type": "code",
   "execution_count": null,
   "metadata": {},
   "outputs": [],
   "source": [
    "# your code"
   ]
  },
  {
   "cell_type": "markdown",
   "metadata": {},
   "source": [
    "#### Movie name, year and a brief summary of the top 10 random movies (IMDB) as a pandas dataframe."
   ]
  },
  {
   "cell_type": "code",
   "execution_count": null,
   "metadata": {},
   "outputs": [],
   "source": [
    "#This is the url you will scrape in this exercise\n",
    "url = 'http://www.imdb.com/chart/top'"
   ]
  },
  {
   "cell_type": "code",
   "execution_count": null,
   "metadata": {},
   "outputs": [],
   "source": [
    "#your code"
   ]
  },
  {
   "cell_type": "markdown",
   "metadata": {},
   "source": [
    "#### Find the live weather report (temperature, wind speed, description and weather) of a given city."
   ]
  },
  {
   "cell_type": "code",
   "execution_count": null,
   "metadata": {},
   "outputs": [],
   "source": [
    "#https://openweathermap.org/current\n",
    "city = city=input('Enter the city:')\n",
    "url = 'http://api.openweathermap.org/data/2.5/weather?'+'q='+city+'&APPID=b35975e18dc93725acb092f7272cc6b8&units=metric'"
   ]
  },
  {
   "cell_type": "code",
   "execution_count": null,
   "metadata": {},
   "outputs": [],
   "source": [
    "# your code"
   ]
  },
  {
   "cell_type": "markdown",
   "metadata": {},
   "source": [
    "#### Book name,price and stock availability as a pandas dataframe."
   ]
  },
  {
   "cell_type": "code",
   "execution_count": null,
   "metadata": {},
   "outputs": [],
   "source": [
    "# This is the url you will scrape in this exercise. \n",
    "# It is a fictional bookstore created to be scraped. \n",
    "url = 'http://books.toscrape.com/'"
   ]
  },
  {
   "cell_type": "code",
   "execution_count": null,
   "metadata": {},
   "outputs": [],
   "source": [
    "#your code"
   ]
  }
 ],
 "metadata": {
  "kernelspec": {
   "display_name": "Python 3",
   "language": "python",
   "name": "python3"
  },
  "language_info": {
   "codemirror_mode": {
    "name": "ipython",
    "version": 3
   },
   "file_extension": ".py",
   "mimetype": "text/x-python",
   "name": "python",
   "nbconvert_exporter": "python",
   "pygments_lexer": "ipython3",
   "version": "3.8.2"
  }
 },
 "nbformat": 4,
 "nbformat_minor": 2
}
